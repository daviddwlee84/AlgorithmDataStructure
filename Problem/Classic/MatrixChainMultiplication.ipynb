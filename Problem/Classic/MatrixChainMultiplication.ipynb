{
 "cells": [
  {
   "cell_type": "markdown",
   "metadata": {},
   "source": [
    "# Matrix Chain Multiplication\n",
    "\n",
    "Cormen Ch 12.2"
   ]
  },
  {
   "cell_type": "markdown",
   "metadata": {},
   "source": [
    "## Links\n",
    "\n",
    "[GeeksforGeeks - Matrix Chain Multiplication | DP-8](https://www.geeksforgeeks.org/matrix-chain-multiplication-dp-8/)"
   ]
  },
  {
   "cell_type": "code",
   "execution_count": null,
   "metadata": {
    "collapsed": true
   },
   "outputs": [],
   "source": [
    "import numpy as np"
   ]
  },
  {
   "cell_type": "code",
   "execution_count": null,
   "metadata": {},
   "outputs": [],
   "source": [
    "class Recursive:\n",
    "    pass"
   ]
  },
  {
   "cell_type": "code",
   "execution_count": null,
   "metadata": {},
   "outputs": [],
   "source": [
    "class Iterative:\n",
    "    def __init__(self, P, n):\n",
    "        self.P = P\n",
    "        self.n = n\n",
    "\n",
    "        self.m = np.zeros((n, n)) # middle\n",
    "        self.s = np.zeros((n, n)) # seperate\n",
    "    \n",
    "    def solve(self):\n",
    "        for r in range(2, self.n+1): # Iterate through sub-problem with length = r\n",
    "            for i in range(0, self.n - r + 1): # i = left\n",
    "                j = i + r - 1 # j = right\n",
    "                print(\"r (i, j) = %d (%d, %d)\" % (r, i, j))\n",
    "                self.m[i, j] = self.m[i+1, j] + self.P[i-1]*self.P[i]*self.P[j]\n",
    "                self.s[i, j] = i\n",
    "        \n",
    "            for k in range(i+1, j): # Iterate through k (all the possible split)\n",
    "                t = self.m[i, k] + self.m[k+1, j] + \\\n",
    "                    self.P[i-1]*self.P[k]*self.P[j]\n",
    "                \n",
    "                if t < self.m[i, j]:\n",
    "                    # update minimum\n",
    "                    self.m[i, j] = t\n",
    "                    self.s[i, j] = k\n",
    "    \n",
    "    def track(self):\n",
    "        pass\n",
    "\n",
    "    def printTable(self):\n",
    "        print(self.m)\n",
    "        print(self.s)"
   ]
  },
  {
   "cell_type": "code",
   "execution_count": null,
   "metadata": {},
   "outputs": [],
   "source": [
    "P = [30, 35, 15, 5, 10, 20]\n",
    "n = 5\n",
    "# Still have problem and haven't finished\n",
    "iterative = Iterative(P, n)\n",
    "iterative.solve()\n",
    "iterative.printTable()"
   ]
  }
 ],
 "metadata": {
  "kernelspec": {
   "display_name": "Python 3",
   "language": "python",
   "name": "python3"
  },
  "language_info": {
   "codemirror_mode": {
    "name": "ipython",
    "version": 3
   },
   "file_extension": ".py",
   "mimetype": "text/x-python",
   "name": "python",
   "nbconvert_exporter": "python",
   "pygments_lexer": "ipython3",
   "version": "3.6.5"
  },
  "latex_envs": {
   "LaTeX_envs_menu_present": true,
   "autoclose": false,
   "autocomplete": true,
   "bibliofile": "biblio.bib",
   "cite_by": "apalike",
   "current_citInitial": 1,
   "eqLabelWithNumbers": true,
   "eqNumInitial": 1,
   "hotkeys": {
    "equation": "Ctrl-E",
    "itemize": "Ctrl-I"
   },
   "labels_anchors": false,
   "latex_user_defs": false,
   "report_style_numbering": false,
   "user_envs_cfg": false
  }
 },
 "nbformat": 4,
 "nbformat_minor": 2
}
